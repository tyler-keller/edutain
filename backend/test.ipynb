{
 "cells": [
  {
   "cell_type": "code",
   "execution_count": null,
   "metadata": {},
   "outputs": [],
   "source": [
    "from ebooklib import epub\n",
    "from markdownify import markdownify as md\n",
    "from bs4 import BeautifulSoup\n",
    "import os\n",
    "import numpy as np\n",
    "import pandas as pd"
   ]
  },
  {
   "cell_type": "code",
   "execution_count": null,
   "metadata": {},
   "outputs": [],
   "source": [
    "def print_book_docs(book):\n",
    "    print(book.get_metadata('DC', 'title'))\n",
    "    chapter_lens = np.array([])\n",
    "    for item in book.get_items():\n",
    "        if isinstance(item, epub.EpubHtml):\n",
    "            soup = BeautifulSoup(item.get_body_content(), 'html.parser')\n",
    "            markdown_content = md(str(soup))\n",
    "            chapter_lens = np.append(chapter_lens, len(markdown_content))\n",
    "            print(item.get_id(), item.is_chapter(), len(markdown_content))\n",
    "            # print(markdown_content)\n",
    "    print(pd.Series(chapter_lens).describe())\n",
    "    print()"
   ]
  },
  {
   "cell_type": "code",
   "execution_count": null,
   "metadata": {},
   "outputs": [],
   "source": [
    "for file in os.listdir('uploads'):\n",
    "    print_book_docs(epub.read_epub(f'uploads/{file}'))"
   ]
  },
  {
   "cell_type": "code",
   "execution_count": null,
   "metadata": {},
   "outputs": [],
   "source": []
  }
 ],
 "metadata": {
  "kernelspec": {
   "display_name": "edutain",
   "language": "python",
   "name": "python3"
  },
  "language_info": {
   "codemirror_mode": {
    "name": "ipython",
    "version": 3
   },
   "file_extension": ".py",
   "mimetype": "text/x-python",
   "name": "python",
   "nbconvert_exporter": "python",
   "pygments_lexer": "ipython3",
   "version": "3.11.5"
  }
 },
 "nbformat": 4,
 "nbformat_minor": 2
}
